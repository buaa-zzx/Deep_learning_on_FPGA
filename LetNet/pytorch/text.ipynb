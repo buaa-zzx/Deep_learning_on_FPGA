{
 "metadata": {
  "language_info": {
   "codemirror_mode": {
    "name": "ipython",
    "version": 3
   },
   "file_extension": ".py",
   "mimetype": "text/x-python",
   "name": "python",
   "nbconvert_exporter": "python",
   "pygments_lexer": "ipython3",
   "version": "3.8.6-final"
  },
  "orig_nbformat": 2,
  "kernelspec": {
   "name": "python3",
   "display_name": "Python 3.8.6 64-bit ('pytorch': conda)",
   "metadata": {
    "interpreter": {
     "hash": "527a93331b4b1a8345148922acc34427fb7591433d63b66d32040b6fbbc6d593"
    }
   }
  }
 },
 "nbformat": 4,
 "nbformat_minor": 2,
 "cells": [
  {
   "cell_type": "code",
   "execution_count": 1,
   "metadata": {},
   "outputs": [
    {
     "output_type": "error",
     "ename": "ModuleNotFoundError",
     "evalue": "No module named 'torch'",
     "traceback": [
      "\u001b[1;31m---------------------------------------------------------------------------\u001b[0m",
      "\u001b[1;31mModuleNotFoundError\u001b[0m                       Traceback (most recent call last)",
      "\u001b[1;32m<ipython-input-1-5230391ba119>\u001b[0m in \u001b[0;36m<module>\u001b[1;34m\u001b[0m\n\u001b[1;32m----> 1\u001b[1;33m \u001b[1;32mimport\u001b[0m \u001b[0mtorch\u001b[0m\u001b[1;33m\u001b[0m\u001b[1;33m\u001b[0m\u001b[0m\n\u001b[0m\u001b[0;32m      2\u001b[0m \u001b[1;32mimport\u001b[0m \u001b[0mtorch\u001b[0m\u001b[1;33m.\u001b[0m\u001b[0mnn\u001b[0m \u001b[1;32mas\u001b[0m \u001b[0mnn\u001b[0m\u001b[1;33m\u001b[0m\u001b[1;33m\u001b[0m\u001b[0m\n\u001b[0;32m      3\u001b[0m \u001b[1;32mimport\u001b[0m \u001b[0mtorch\u001b[0m\u001b[1;33m.\u001b[0m\u001b[0moptim\u001b[0m \u001b[1;32mas\u001b[0m \u001b[0moptim\u001b[0m\u001b[1;33m\u001b[0m\u001b[1;33m\u001b[0m\u001b[0m\n\u001b[0;32m      4\u001b[0m \u001b[1;32mimport\u001b[0m \u001b[0mtorchvision\u001b[0m\u001b[1;33m\u001b[0m\u001b[1;33m\u001b[0m\u001b[0m\n\u001b[0;32m      5\u001b[0m \u001b[1;31m# 定义是否使用GPU\u001b[0m\u001b[1;33m\u001b[0m\u001b[1;33m\u001b[0m\u001b[1;33m\u001b[0m\u001b[0m\n",
      "\u001b[1;31mModuleNotFoundError\u001b[0m: No module named 'torch'"
     ]
    }
   ],
   "source": [
    "import torch\n",
    "import torch.nn as nn\n",
    "import torch.optim as optim\n",
    "import torchvision\n",
    "# 定义是否使用GPU\n",
    "device = torch.device(\"cuda\" if torch.cuda.is_available() else \"cpu\")\n",
    "print(device)\n"
   ]
  },
  {
   "cell_type": "code",
   "execution_count": null,
   "metadata": {},
   "outputs": [],
   "source": [
    "class LeNet(nn.Module): #定义网络 pytorch定义网络有很多方式，推荐以下方式，结构清晰\n",
    "    def __init__(self):\n",
    "        super(LeNet,self).__init__()\n",
    "        self.conv1 = nn.Sequential(     #input_size=(1*28*28)\n",
    "            nn.Conv2d(1,6,5,1,2),       #padding=2，图片大小变为 28+2*2 = 32 (两边各加2列0)，保证输入输出尺寸相同\n",
    "            nn.ReLU(),\n",
    "            nn.AvgPool2d(kernel_size = 2 ,stride = 2)   #input_size=(6*28*28)，output_size=(6*14*14)\n",
    "        )\n",
    " \n",
    "        self.conv2 = nn.Sequential(\n",
    "            nn.Conv2d(6,16,5),                          #input_size=(6*14*14)，output_size=16*10*10\n",
    "            nn.ReLU(),\n",
    "            nn.AvgPool2d(kernel_size = 2,stride = 2)    ##input_size=(16*10*10)，output_size=(16*5*5)\n",
    "        )\n",
    "        self.conv3 = nn.Sequential(\n",
    "            nn.Conv2d(16, 120, 5),  # input_size=(16*5*5)，output_size=120*1*1\n",
    "            nn.ReLU(),\n",
    "        )\n",
    "        # self.fc1 = nn.Sequential(\n",
    "        #     nn.Linear(16*5*5,120),\n",
    "        #     nn.ReLU()\n",
    "        # )\n",
    " \n",
    "        self.fc2 = nn.Sequential(\n",
    "            nn.Linear(120,84),\n",
    "            nn.ReLU()\n",
    "        )\n",
    " \n",
    "        self.fc3 = nn.Linear(84,10)\n",
    " \n",
    "    #网络前向传播过程\n",
    "    def forward(self,x):\n",
    "        x = self.conv1(x)\n",
    "        x = self.conv2(x)\n",
    "        x = self.conv3(x)\n",
    "        x = x.view(x.size(0), -1) #全连接层均使用的nn.Linear()线性结构，输入输出维度均为一维，故需要把数据拉为一维\n",
    "        # x = self.fc1(x)\n",
    "\n",
    "        x = self.fc2(x)\n",
    "        x = self.fc3(x)\n",
    "        return x"
   ]
  },
  {
   "cell_type": "code",
   "execution_count": null,
   "metadata": {},
   "outputs": [],
   "source": [
    "transform = torchvision.transforms.ToTensor()   #定义数据预处理方式：转换 PIL.Image 成 torch.FloatTensor\n",
    "\n",
    "train_data = torchvision.datasets.MNIST(root=\"./data/\",    #数据目录，这里目录结构要注意。\n",
    "                                        train=True,                                     #是否为训练集\n",
    "                                        transform=transform,                            #加载数据预处理\n",
    "                                        download=True )                                 #是否下载，这里下载偏慢\n",
    "test_data = torchvision.datasets.MNIST(root=\"./data/\",\n",
    "                                        train=False,\n",
    "                                        transform=transform,\n",
    "                                        download=True )\n",
    " \n",
    "train_loader = torch.utils.data.DataLoader(dataset = train_data,batch_size = 64,shuffle = True) #数据加载器:组合数据集和采样器\n",
    "test_loader = torch.utils.data.DataLoader(dataset = test_data,batch_size = 64,shuffle = False)"
   ]
  },
  {
   "cell_type": "code",
   "execution_count": null,
   "metadata": {},
   "outputs": [],
   "source": [
    "#define loss\n",
    "net = LeNet().to(device)    #实例化网络，有GPU则将网络放入GPU加速\n",
    "loss_fuc = nn.CrossEntropyLoss()    #多分类问题，选择交叉熵损失函数\n",
    "# optimizer = optim.SGD(net.parameters(),lr = 0.001,momentum = 0.9)   #选择SGd，学习率取0.001\n",
    "optimizer = optim.Adam(net.parameters(),lr = 0.001)"
   ]
  },
  {
   "cell_type": "code",
   "execution_count": null,
   "metadata": {},
   "outputs": [],
   "source": [
    "#Star train\n",
    "EPOCH = 20   #训练总轮数\n",
    "\n",
    "\n",
    "# net.load_state_dict(torch.load('Lenet.pth'))\n",
    "for epoch in range(EPOCH):\n",
    "    sum_loss = 0\n",
    "    # 数据读取\n",
    "    for i,data in enumerate(train_loader):\n",
    "        inputs,labels = data\n",
    "        inputs, labels = inputs.to(device), labels.to(device)   #有GPU则将数据置入GPU加速\n",
    "\n",
    "\n",
    "        # 梯度清零\n",
    "        optimizer.zero_grad()\n",
    "\n",
    "        # 传递损失 + 更新参数\n",
    "        output = net(inputs)\n",
    "        loss = loss_fuc(output,labels)\n",
    "        loss.backward()\n",
    "        optimizer.step()\n",
    "\n",
    "        # 每训练100个batch打印一次平均loss\n",
    "        sum_loss += loss.item()\n",
    "        if i % 100 == 99:\n",
    "            print('[Epoch:%d, batch:%d] train loss: %.05f' % (epoch + 1, i + 1, sum_loss / 100))\n",
    "            sum_loss = 0.0\n",
    " \n",
    "    correct = 0\n",
    "    total = 0\n",
    " \n",
    "    for data in test_loader:\n",
    "        test_inputs, labels = data\n",
    "        test_inputs, labels = test_inputs.to(device), labels.to(device)\n",
    "        outputs_test = net(test_inputs)\n",
    "        _, predicted = torch.max(outputs_test.data, 1)  #输出得分最高的类\n",
    "        total += labels.size(0) #统计50个batch 图片的总个数\n",
    "        correct += (predicted == labels).sum()  #统计50个batch 正确分类的个数\n",
    " \n",
    "    print('第%d个epoch的识别准确率为：%d%%' % (epoch + 1, (100 * correct / total)))"
   ]
  }
 ]
}