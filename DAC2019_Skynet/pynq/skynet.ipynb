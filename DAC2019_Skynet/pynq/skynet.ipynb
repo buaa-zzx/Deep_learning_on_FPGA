{
 "cells": [
  {
   "cell_type": "code",
   "execution_count": 1,
   "metadata": {},
   "outputs": [
    {
     "data": {
      "application/javascript": [
       "\n",
       "require(['notebook/js/codecell'], function(codecell) {\n",
       "  codecell.CodeCell.options_default.highlight_modes[\n",
       "      'magic_text/x-csrc'] = {'reg':[/^%%microblaze/]};\n",
       "  Jupyter.notebook.events.one('kernel_ready.Kernel', function(){\n",
       "      Jupyter.notebook.get_cells().map(function(cell){\n",
       "          if (cell.cell_type == 'code'){ cell.auto_highlight(); } }) ;\n",
       "  });\n",
       "});\n"
      ]
     },
     "metadata": {},
     "output_type": "display_data"
    },
    {
     "name": "stdout",
     "output_type": "stream",
     "text": [
      "\n",
      "**** Running SkyNet\n"
     ]
    }
   ],
   "source": [
    "#################### import all libraries and initializations ############\n",
    "import sys\n",
    "import numpy as np \n",
    "import os\n",
    "import time\n",
    "import math\n",
    "from PIL import Image\n",
    "import cv2\n",
    "from datetime import datetime\n",
    "from pynq import Xlnk\n",
    "from pynq import Overlay\n",
    "import pynq\n",
    "import struct\n",
    "from multiprocessing import Process, Pipe, Queue, Event, Manager\n",
    "\n",
    "print('\\n**** Running SkyNet')\n",
    "\n",
    "xlnk = Xlnk()\n",
    "xlnk.xlnk_reset()"
   ]
  },
  {
   "cell_type": "code",
   "execution_count": 2,
   "metadata": {},
   "outputs": [
    {
     "name": "stdout",
     "output_type": "stream",
     "text": [
      "Allocating memory done\n"
     ]
    }
   ],
   "source": [
    "########## Allocate memory for weights and off-chip buffers\n",
    "mytype = 'B,'*63 + 'B'\n",
    "dt = np.dtype(mytype)\n",
    "img = xlnk.cma_array(shape=(3,162*2,322*2), dtype=np.uint8)\n",
    "\n",
    "conv_weight_1x1_all = xlnk.cma_array(shape=(413, 32), dtype=dt)\n",
    "conv_weight_3x3_all = xlnk.cma_array(shape=(64, 3, 3), dtype=dt)\n",
    "bias_all = xlnk.cma_array(shape=(106), dtype=dt)\n",
    "DDR_pool_3_out = xlnk.cma_array(shape=(2, 164, 324), dtype=dt)\n",
    "DDR_pool_6_out = xlnk.cma_array(shape=(3, 84, 164), dtype=dt)\n",
    "DDR_buf = xlnk.cma_array(shape=(128, 44, 84), dtype=dt)\n",
    "predict_boxes = xlnk.cma_array(shape=(4, 5), dtype=np.float32)\n",
    "constant = xlnk.cma_array(shape=(4, 3), dtype=np.int32)\n",
    "\n",
    "print(\"Allocating memory done\")"
   ]
  },
  {
   "cell_type": "code",
   "execution_count": 3,
   "metadata": {},
   "outputs": [
    {
     "name": "stdout",
     "output_type": "stream",
     "text": [
      "Parameters loading done\n"
     ]
    }
   ],
   "source": [
    "########### Load parameters from SD card to DDR\n",
    "params = np.fromfile(\"SkyNet.bin\", dtype=dt)\n",
    "idx = 0\n",
    "np.copyto(conv_weight_1x1_all, params[idx:idx+conv_weight_1x1_all.size].reshape(conv_weight_1x1_all.shape))\n",
    "idx += conv_weight_1x1_all.size\n",
    "np.copyto(conv_weight_3x3_all, params[idx:idx+conv_weight_3x3_all.size].reshape(conv_weight_3x3_all.shape))\n",
    "idx += conv_weight_3x3_all.size\n",
    "np.copyto(bias_all, params[idx:idx+bias_all.size].reshape(bias_all.shape))\n",
    "print(\"Parameters loading done\")"
   ]
  },
  {
   "cell_type": "code",
   "execution_count": 4,
   "metadata": {},
   "outputs": [
    {
     "name": "stdout",
     "output_type": "stream",
     "text": [
      "Bitstream loaded\n"
     ]
    }
   ],
   "source": [
    "################### Download the overlay\n",
    "overlay = Overlay(\"./skynet.bit\")\n",
    "print(\"Bitstream loaded\")"
   ]
  },
  {
   "cell_type": "code",
   "execution_count": 5,
   "metadata": {},
   "outputs": [],
   "source": [
    "################## Utility functions \n",
    "\n",
    "IMG_DIR = './test_images/'\n",
    "# Get image name list\n",
    "def get_image_names():\n",
    "    names_temp = [f for f in os.listdir(IMG_DIR) if f.endswith('.jpg')]\n",
    "    names_temp.sort(key= lambda x:int(x[:-4]))\n",
    "    return names_temp\n",
    "\n",
    "# Process the images in batches, may help when write to XML\n",
    "BATCH_SIZE = 4\n",
    "def get_image_batch():\n",
    "    image_list = get_image_names()\n",
    "    batches = list()\n",
    "    for i in range(0, len(image_list), BATCH_SIZE):\n",
    "        batches.append(image_list[i:i+BATCH_SIZE])\n",
    "    return batches\n",
    "\n",
    "def stitch(image_queue, name_queue):\n",
    "    blank = Image.new('RGB', (644, 324), (127, 127, 127))\n",
    "    img = np.ndarray(shape=(3,162*2,322*2), dtype=np.uint8)\n",
    "    \n",
    "    for batch in get_image_batch():\n",
    "        for i in range(0, len(batch), 4):\n",
    "            while image_queue.full():\n",
    "                continue\n",
    "            \n",
    "            pic_name = IMG_DIR + batch[0]\n",
    "            image = Image.open(pic_name).convert('RGB')\n",
    "            image = image.resize((320, 160))\n",
    "            blank.paste(image, (1, 1))\n",
    "\n",
    "            pic_name = IMG_DIR + batch[1]\n",
    "            image = Image.open(pic_name).convert('RGB')\n",
    "            image = image.resize((320, 160))\n",
    "            blank.paste(image, (323, 1))\n",
    "\n",
    "            pic_name = IMG_DIR + batch[2]\n",
    "            image = Image.open(pic_name).convert('RGB')\n",
    "            image = image.resize((320, 160))\n",
    "            blank.paste(image, (1, 163))\n",
    "\n",
    "            pic_name = IMG_DIR + batch[3]\n",
    "            image = Image.open(pic_name).convert('RGB')\n",
    "            image = image.resize((320, 160))\n",
    "            blank.paste(image, (323, 163))\n",
    "\n",
    "            image_stitched = np.transpose(blank, (2, 0, 1))\n",
    "            image_queue.put(image_stitched)\n",
    "            \n",
    "            \n",
    "def compute_bounding_box(boxes, output_queue):\n",
    "    predict_boxes = np.empty([4, 5], dtype=np.float32)\n",
    "    constant = np.empty([4, 3], dtype=np.int32)\n",
    "    \n",
    "    for batch in get_image_batch():\n",
    "        print(batch)\n",
    "        for i in range(0, len(batch), 4):\n",
    "            \n",
    "            while output_queue.full():\n",
    "                continue\n",
    "                \n",
    "            outputs = output_queue.get()\n",
    "            outputs_boxes = outputs[0]\n",
    "            outputs_index = outputs[1]\n",
    "            np.copyto(predict_boxes, np.array(outputs_boxes))\n",
    "            np.copyto(constant, np.array(outputs_index))\n",
    "                \n",
    "            for idx in range(0, 4):\n",
    "                predict_boxes[idx][0] = 1.0 / (1.0 + math.exp(-predict_boxes[idx][0])) + constant[idx][1];\n",
    "                predict_boxes[idx][1] = 1.0 / (1.0 + math.exp(-predict_boxes[idx][1])) + constant[idx][2];\n",
    "\n",
    "                if( constant[idx][0] == 0 ):\n",
    "                    predict_boxes[idx][2] = math.exp(predict_boxes[idx][2]) * box[0];\n",
    "                    predict_boxes[idx][3] = math.exp(predict_boxes[idx][3]) * box[1];\n",
    "                else:\n",
    "                    predict_boxes[idx][2] = math.exp(predict_boxes[idx][2]) * box[2];\n",
    "                    predict_boxes[idx][3] = math.exp(predict_boxes[idx][3]) * box[3];\n",
    "                predict_boxes[idx][4] = 1.0 / (1.0 + math.exp(-predict_boxes[idx][4]));\n",
    "\n",
    "                predict_boxes[idx][0] = predict_boxes[idx][0] / 40;\n",
    "                predict_boxes[idx][1] = predict_boxes[idx][1] / 20;\n",
    "                predict_boxes[idx][2] = predict_boxes[idx][2] / 40;\n",
    "                predict_boxes[idx][3] = predict_boxes[idx][3] / 20;\n",
    "                #print(predict_boxes[idx])\n",
    "\n",
    "                x1 = int(round((predict_boxes[idx][0] - predict_boxes[idx][2]/2.0) * 640))\n",
    "                y1 = int(round((predict_boxes[idx][1] - predict_boxes[idx][3]/2.0) * 360))\n",
    "                x2 = int(round((predict_boxes[idx][0] + predict_boxes[idx][2]/2.0) * 640))\n",
    "                y2 = int(round((predict_boxes[idx][1] + predict_boxes[idx][3]/2.0) * 360))\n",
    "                result_rectangle.append([x1, x2, y1, y2])\n",
    "\n",
    "                print([x1, x2, y1, y2])"
   ]
  },
  {
   "cell_type": "code",
   "execution_count": 6,
   "metadata": {},
   "outputs": [],
   "source": [
    "###########################################################\n",
    "################ MAIN PART OF DETECTION ###################\n",
    "###########################################################\n",
    "\n",
    "SkyNet = overlay.SkyNet_0\n",
    "\n",
    "SkyNet.write(0x10, img.physical_address)\n",
    "SkyNet.write(0x18, conv_weight_1x1_all.physical_address)\n",
    "SkyNet.write(0x20, conv_weight_3x3_all.physical_address)\n",
    "SkyNet.write(0x28, bias_all.physical_address)\n",
    "SkyNet.write(0x30, DDR_pool_3_out.physical_address)\n",
    "SkyNet.write(0x38, DDR_pool_6_out.physical_address)\n",
    "SkyNet.write(0x40, DDR_buf.physical_address)\n",
    "SkyNet.write(0x50, predict_boxes.physical_address)\n",
    "SkyNet.write(0x58, constant.physical_address)\n",
    "     \n",
    "box = [1.4940052559648322, 2.3598481287086823, 4.0113013115312155, 5.760873975661669]"
   ]
  },
  {
   "cell_type": "code",
   "execution_count": 17,
   "metadata": {},
   "outputs": [],
   "source": [
    "################# Declare New Process ##############\n",
    "image_queue = Queue(200) ## could be smaller\n",
    "name_queue = Queue(200)\n",
    "output_queue = Queue(10)\n",
    "mgr = Manager()\n",
    "result_rectangle = mgr.list()\n",
    "p1 = Process(target=stitch, args=(image_queue, name_queue))\n",
    "p2 = Process(target=compute_bounding_box, args=(result_rectangle, output_queue))\n"
   ]
  },
  {
   "cell_type": "code",
   "execution_count": 18,
   "metadata": {},
   "outputs": [
    {
     "name": "stdout",
     "output_type": "stream",
     "text": [
      "['0.jpg', '1.jpg', '2.jpg', '3.jpg']\n",
      "\n",
      "**** Start to detect\n",
      "time.struct_time(tm_year=2056, tm_mon=3, tm_mday=12, tm_hour=7, tm_min=10, tm_sec=29, tm_wday=6, tm_yday=72, tm_isdst=0)\n",
      "2720070629.3724966\n",
      "[307, 377, 135, 238]\n",
      "[557, 573, 232, 255]\n",
      "[290, 311, 129, 171]\n",
      "[240, 261, 159, 215]\n",
      "['4.jpg', '5.jpg', '6.jpg', '7.jpg']\n",
      "[300, 317, 167, 201]\n",
      "['8.jpg', '9.jpg', '10.jpg', '11.jpg']\n",
      "[235, 247, 293, 324]\n",
      "[173, 214, 39, 152]\n",
      "[262, 305, 87, 192]\n",
      "[207, 246, 96, 197]\n",
      "['12.jpg', '13.jpg', '14.jpg', '15.jpg']\n",
      "[302, 322, 282, 309]\n",
      "[319, 340, 156, 230]\n",
      "[317, 337, 148, 170]\n",
      "[316, 339, 155, 175]\n",
      "[331, 358, 150, 217]\n",
      "[216, 271, 110, 276]\n",
      "[437, 475, 194, 233]\n",
      "**** Detection finished\n",
      "\n",
      "2720070634.886455\n",
      "Total time: 5.51395845413208 s\n"
     ]
    }
   ],
   "source": [
    "################### Start to detect ################\n",
    "output_boxes = np.empty([4, 5], dtype=np.float32)\n",
    "output_index = np.empty([4, 3], dtype=np.int32)\n",
    "\n",
    "p1.start()\n",
    "p2.start()\n",
    "print(\"\\n**** Start to detect\")\n",
    "start = time.time()\n",
    "print (time.localtime( time.time() ))\n",
    "print(start)\n",
    "for batch in get_image_batch():\n",
    "    for i in range(0, len(batch), 4):\n",
    "\n",
    "        while image_queue.empty():\n",
    "            continue\n",
    "\n",
    "        preprocessed_img = image_queue.get()\n",
    "        np.copyto(img, np.array(preprocessed_img))\n",
    "\n",
    "        SkyNet.write(0x00, 1)\n",
    "        isready = SkyNet.read(0x00)\n",
    "        while( isready == 1 ):\n",
    "            isready = SkyNet.read(0x00)\n",
    "\n",
    "        outputs = []\n",
    "        np.copyto(output_boxes, predict_boxes)\n",
    "        np.copyto(output_index, constant)\n",
    "        outputs.append(output_boxes)\n",
    "        outputs.append(output_index)\n",
    "        output_queue.put(outputs)\n",
    "p1.join()   \n",
    "p2.join()\n",
    "print(\"**** Detection finished\\n\")\n",
    "        \n",
    "end = time.time()\n",
    "print(end)\n",
    "total_time = end - start\n",
    "print('Total time: ' + str(total_time) + ' s')\n",
    "\n"
   ]
  },
  {
   "cell_type": "code",
   "execution_count": 9,
   "metadata": {},
   "outputs": [],
   "source": [
    "############## clean up #############\n",
    "xlnk.xlnk_reset()  "
   ]
  }
 ],
 "metadata": {
  "kernelspec": {
   "display_name": "Python 3",
   "language": "python",
   "name": "python3"
  },
  "language_info": {
   "codemirror_mode": {
    "name": "ipython",
    "version": 3
   },
   "file_extension": ".py",
   "mimetype": "text/x-python",
   "name": "python",
   "nbconvert_exporter": "python",
   "pygments_lexer": "ipython3",
   "version": "3.6.5"
  }
 },
 "nbformat": 4,
 "nbformat_minor": 2
}
